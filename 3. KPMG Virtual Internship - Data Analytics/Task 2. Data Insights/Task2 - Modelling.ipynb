{
 "cells": [
  {
   "attachments": {},
   "cell_type": "markdown",
   "metadata": {},
   "source": [
    "# KPMG Virtual Data Analytics Internship\n",
    "\n",
    "## Problem scenerio\n",
    "\n",
    "For context, Sprocket Central Pty Ltd is a long-standing KPMG client whom specialises in high-quality bikes and accessible cycling accessories to riders. Their marketing team is looking to boost business by analysing their existing customer dataset to determine customer trends and behaviour. \n",
    "\n",
    "Using the existing 3 datasets (Customer demographic, customer address and transactions) as a labelled dataset, please recommend which of these 1000 new customers should be targeted to drive the most value for the organisation. \n",
    "\n",
    "In building this recommendation, we need to start with a PowerPoint presentation which outlines the approach which we will be taking. The client has agreed on a 3 week scope with the following 3 phases as follows - Data Exploration; Model Development and Interpretation.\n",
    "\n",
    "Prepare a detailed approach for completing the analysis including activities – i.e. understanding the data distributions, feature engineering, data transformations, modelling, results interpretation and reporting. This detailed plan needs to be presented to the client to get a sign-off. Please advise what steps you would take. \n",
    "\n",
    "Please ensure your PowerPoint presentation includes a detailed approach for our strategy behind each of the 3 phases including activities involved in each - i.e. understanding the data distributions, feature engineering, data transformations, modelling, results interpretation and reporting. This detailed plan needs to be presented to the client to get a sign-off.\n",
    "\n"
   ]
  },
  {
   "attachments": {},
   "cell_type": "markdown",
   "metadata": {},
   "source": [
    "### Task 2:  Data Quality Assessment"
   ]
  },
  {
   "cell_type": "code",
   "execution_count": 237,
   "metadata": {},
   "outputs": [
    {
     "name": "stderr",
     "output_type": "stream",
     "text": [
      "/var/folders/wk/q2x1_8p93p98g226j8kx4_nh0000gn/T/ipykernel_6235/2565241970.py:9: FutureWarning: Inferring datetime64[ns] from data containing strings is deprecated and will be removed in a future version. To retain the old behavior explicitly pass Series(data, dtype=datetime64[ns])\n",
      "  demographic = pd.read_excel('KPMG_VI_New_raw_data_update_final.xlsx', sheet_name='CustomerDemographic',skiprows=1)\n",
      "/var/folders/wk/q2x1_8p93p98g226j8kx4_nh0000gn/T/ipykernel_6235/2565241970.py:14: FutureWarning: Inferring datetime64[ns] from data containing strings is deprecated and will be removed in a future version. To retain the old behavior explicitly pass Series(data, dtype=datetime64[ns])\n",
      "  new_cust_list = pd.read_excel('KPMG_VI_New_raw_data_update_final.xlsx', sheet_name='NewCustomerList',skiprows=1)\n"
     ]
    }
   ],
   "source": [
    "import pandas as pd\n",
    "import numpy as np\n",
    "import matplotlib.pyplot as plt\n",
    "import seaborn as sns\n",
    "from datetime import datetime\n",
    "\n",
    "# Read the entire data set & Seperate it into four dataset for further analysis\n",
    "\n",
    "demographic = pd.read_excel('KPMG_VI_New_raw_data_update_final.xlsx', sheet_name='CustomerDemographic',skiprows=1)\n",
    "cust_address = pd.read_excel('KPMG_VI_New_raw_data_update_final.xlsx', sheet_name='CustomerAddress',skiprows=1)\n",
    "transanction = pd.read_excel('KPMG_VI_New_raw_data_update_final.xlsx', sheet_name='Transactions',skiprows=1)\n",
    "\n",
    "# We also have to seperate our new customer list\n",
    "new_cust_list = pd.read_excel('KPMG_VI_New_raw_data_update_final.xlsx', sheet_name='NewCustomerList',skiprows=1)"
   ]
  },
  {
   "attachments": {},
   "cell_type": "markdown",
   "metadata": {},
   "source": [
    "### 1. Complete Data Exploration "
   ]
  },
  {
   "attachments": {},
   "cell_type": "markdown",
   "metadata": {},
   "source": [
    "##### a. Data distributions"
   ]
  },
  {
   "cell_type": "code",
   "execution_count": 238,
   "metadata": {},
   "outputs": [
    {
     "data": {
      "text/html": [
       "<div>\n",
       "<style scoped>\n",
       "    .dataframe tbody tr th:only-of-type {\n",
       "        vertical-align: middle;\n",
       "    }\n",
       "\n",
       "    .dataframe tbody tr th {\n",
       "        vertical-align: top;\n",
       "    }\n",
       "\n",
       "    .dataframe thead th {\n",
       "        text-align: right;\n",
       "    }\n",
       "</style>\n",
       "<table border=\"1\" class=\"dataframe\">\n",
       "  <thead>\n",
       "    <tr style=\"text-align: right;\">\n",
       "      <th></th>\n",
       "      <th>customer_id</th>\n",
       "      <th>first_name</th>\n",
       "      <th>last_name</th>\n",
       "      <th>gender</th>\n",
       "      <th>past_3_years_bike_related_purchases</th>\n",
       "      <th>DOB</th>\n",
       "      <th>job_title</th>\n",
       "      <th>job_industry_category</th>\n",
       "      <th>wealth_segment</th>\n",
       "      <th>deceased_indicator</th>\n",
       "      <th>...</th>\n",
       "      <th>product_class</th>\n",
       "      <th>product_size</th>\n",
       "      <th>list_price</th>\n",
       "      <th>standard_cost</th>\n",
       "      <th>product_first_sold_date</th>\n",
       "      <th>address</th>\n",
       "      <th>postcode</th>\n",
       "      <th>state</th>\n",
       "      <th>country</th>\n",
       "      <th>property_valuation</th>\n",
       "    </tr>\n",
       "  </thead>\n",
       "  <tbody>\n",
       "    <tr>\n",
       "      <th>0</th>\n",
       "      <td>1</td>\n",
       "      <td>Laraine</td>\n",
       "      <td>Medendorp</td>\n",
       "      <td>F</td>\n",
       "      <td>93</td>\n",
       "      <td>1953-10-12</td>\n",
       "      <td>Executive Secretary</td>\n",
       "      <td>Health</td>\n",
       "      <td>Mass Customer</td>\n",
       "      <td>N</td>\n",
       "      <td>...</td>\n",
       "      <td>medium</td>\n",
       "      <td>medium</td>\n",
       "      <td>235.63</td>\n",
       "      <td>125.07</td>\n",
       "      <td>38482.0</td>\n",
       "      <td>060 Morning Avenue</td>\n",
       "      <td>2016</td>\n",
       "      <td>New South Wales</td>\n",
       "      <td>Australia</td>\n",
       "      <td>10</td>\n",
       "    </tr>\n",
       "    <tr>\n",
       "      <th>1</th>\n",
       "      <td>1</td>\n",
       "      <td>Laraine</td>\n",
       "      <td>Medendorp</td>\n",
       "      <td>F</td>\n",
       "      <td>93</td>\n",
       "      <td>1953-10-12</td>\n",
       "      <td>Executive Secretary</td>\n",
       "      <td>Health</td>\n",
       "      <td>Mass Customer</td>\n",
       "      <td>N</td>\n",
       "      <td>...</td>\n",
       "      <td>medium</td>\n",
       "      <td>medium</td>\n",
       "      <td>1577.53</td>\n",
       "      <td>826.51</td>\n",
       "      <td>39526.0</td>\n",
       "      <td>060 Morning Avenue</td>\n",
       "      <td>2016</td>\n",
       "      <td>New South Wales</td>\n",
       "      <td>Australia</td>\n",
       "      <td>10</td>\n",
       "    </tr>\n",
       "    <tr>\n",
       "      <th>2</th>\n",
       "      <td>1</td>\n",
       "      <td>Laraine</td>\n",
       "      <td>Medendorp</td>\n",
       "      <td>F</td>\n",
       "      <td>93</td>\n",
       "      <td>1953-10-12</td>\n",
       "      <td>Executive Secretary</td>\n",
       "      <td>Health</td>\n",
       "      <td>Mass Customer</td>\n",
       "      <td>N</td>\n",
       "      <td>...</td>\n",
       "      <td>low</td>\n",
       "      <td>small</td>\n",
       "      <td>1720.70</td>\n",
       "      <td>1531.42</td>\n",
       "      <td>37823.0</td>\n",
       "      <td>060 Morning Avenue</td>\n",
       "      <td>2016</td>\n",
       "      <td>New South Wales</td>\n",
       "      <td>Australia</td>\n",
       "      <td>10</td>\n",
       "    </tr>\n",
       "    <tr>\n",
       "      <th>3</th>\n",
       "      <td>1</td>\n",
       "      <td>Laraine</td>\n",
       "      <td>Medendorp</td>\n",
       "      <td>F</td>\n",
       "      <td>93</td>\n",
       "      <td>1953-10-12</td>\n",
       "      <td>Executive Secretary</td>\n",
       "      <td>Health</td>\n",
       "      <td>Mass Customer</td>\n",
       "      <td>N</td>\n",
       "      <td>...</td>\n",
       "      <td>medium</td>\n",
       "      <td>medium</td>\n",
       "      <td>360.40</td>\n",
       "      <td>270.30</td>\n",
       "      <td>37873.0</td>\n",
       "      <td>060 Morning Avenue</td>\n",
       "      <td>2016</td>\n",
       "      <td>New South Wales</td>\n",
       "      <td>Australia</td>\n",
       "      <td>10</td>\n",
       "    </tr>\n",
       "    <tr>\n",
       "      <th>4</th>\n",
       "      <td>1</td>\n",
       "      <td>Laraine</td>\n",
       "      <td>Medendorp</td>\n",
       "      <td>F</td>\n",
       "      <td>93</td>\n",
       "      <td>1953-10-12</td>\n",
       "      <td>Executive Secretary</td>\n",
       "      <td>Health</td>\n",
       "      <td>Mass Customer</td>\n",
       "      <td>N</td>\n",
       "      <td>...</td>\n",
       "      <td>medium</td>\n",
       "      <td>medium</td>\n",
       "      <td>71.49</td>\n",
       "      <td>53.62</td>\n",
       "      <td>38573.0</td>\n",
       "      <td>060 Morning Avenue</td>\n",
       "      <td>2016</td>\n",
       "      <td>New South Wales</td>\n",
       "      <td>Australia</td>\n",
       "      <td>10</td>\n",
       "    </tr>\n",
       "    <tr>\n",
       "      <th>...</th>\n",
       "      <td>...</td>\n",
       "      <td>...</td>\n",
       "      <td>...</td>\n",
       "      <td>...</td>\n",
       "      <td>...</td>\n",
       "      <td>...</td>\n",
       "      <td>...</td>\n",
       "      <td>...</td>\n",
       "      <td>...</td>\n",
       "      <td>...</td>\n",
       "      <td>...</td>\n",
       "      <td>...</td>\n",
       "      <td>...</td>\n",
       "      <td>...</td>\n",
       "      <td>...</td>\n",
       "      <td>...</td>\n",
       "      <td>...</td>\n",
       "      <td>...</td>\n",
       "      <td>...</td>\n",
       "      <td>...</td>\n",
       "      <td>...</td>\n",
       "    </tr>\n",
       "    <tr>\n",
       "      <th>19963</th>\n",
       "      <td>3500</td>\n",
       "      <td>Josy</td>\n",
       "      <td>Fleeman</td>\n",
       "      <td>Female</td>\n",
       "      <td>71</td>\n",
       "      <td>1967-07-21</td>\n",
       "      <td>NaN</td>\n",
       "      <td>Entertainment</td>\n",
       "      <td>Affluent Customer</td>\n",
       "      <td>N</td>\n",
       "      <td>...</td>\n",
       "      <td>medium</td>\n",
       "      <td>medium</td>\n",
       "      <td>792.90</td>\n",
       "      <td>594.68</td>\n",
       "      <td>33879.0</td>\n",
       "      <td>9491 Green Ridge Terrace</td>\n",
       "      <td>2100</td>\n",
       "      <td>NSW</td>\n",
       "      <td>Australia</td>\n",
       "      <td>10</td>\n",
       "    </tr>\n",
       "    <tr>\n",
       "      <th>19964</th>\n",
       "      <td>3500</td>\n",
       "      <td>Josy</td>\n",
       "      <td>Fleeman</td>\n",
       "      <td>Female</td>\n",
       "      <td>71</td>\n",
       "      <td>1967-07-21</td>\n",
       "      <td>NaN</td>\n",
       "      <td>Entertainment</td>\n",
       "      <td>Affluent Customer</td>\n",
       "      <td>N</td>\n",
       "      <td>...</td>\n",
       "      <td>medium</td>\n",
       "      <td>medium</td>\n",
       "      <td>1228.07</td>\n",
       "      <td>400.91</td>\n",
       "      <td>36668.0</td>\n",
       "      <td>9491 Green Ridge Terrace</td>\n",
       "      <td>2100</td>\n",
       "      <td>NSW</td>\n",
       "      <td>Australia</td>\n",
       "      <td>10</td>\n",
       "    </tr>\n",
       "    <tr>\n",
       "      <th>19965</th>\n",
       "      <td>3500</td>\n",
       "      <td>Josy</td>\n",
       "      <td>Fleeman</td>\n",
       "      <td>Female</td>\n",
       "      <td>71</td>\n",
       "      <td>1967-07-21</td>\n",
       "      <td>NaN</td>\n",
       "      <td>Entertainment</td>\n",
       "      <td>Affluent Customer</td>\n",
       "      <td>N</td>\n",
       "      <td>...</td>\n",
       "      <td>medium</td>\n",
       "      <td>small</td>\n",
       "      <td>1311.44</td>\n",
       "      <td>1167.18</td>\n",
       "      <td>33888.0</td>\n",
       "      <td>9491 Green Ridge Terrace</td>\n",
       "      <td>2100</td>\n",
       "      <td>NSW</td>\n",
       "      <td>Australia</td>\n",
       "      <td>10</td>\n",
       "    </tr>\n",
       "    <tr>\n",
       "      <th>19966</th>\n",
       "      <td>3500</td>\n",
       "      <td>Josy</td>\n",
       "      <td>Fleeman</td>\n",
       "      <td>Female</td>\n",
       "      <td>71</td>\n",
       "      <td>1967-07-21</td>\n",
       "      <td>NaN</td>\n",
       "      <td>Entertainment</td>\n",
       "      <td>Affluent Customer</td>\n",
       "      <td>N</td>\n",
       "      <td>...</td>\n",
       "      <td>medium</td>\n",
       "      <td>medium</td>\n",
       "      <td>60.34</td>\n",
       "      <td>45.26</td>\n",
       "      <td>34165.0</td>\n",
       "      <td>9491 Green Ridge Terrace</td>\n",
       "      <td>2100</td>\n",
       "      <td>NSW</td>\n",
       "      <td>Australia</td>\n",
       "      <td>10</td>\n",
       "    </tr>\n",
       "    <tr>\n",
       "      <th>19967</th>\n",
       "      <td>3500</td>\n",
       "      <td>Josy</td>\n",
       "      <td>Fleeman</td>\n",
       "      <td>Female</td>\n",
       "      <td>71</td>\n",
       "      <td>1967-07-21</td>\n",
       "      <td>NaN</td>\n",
       "      <td>Entertainment</td>\n",
       "      <td>Affluent Customer</td>\n",
       "      <td>N</td>\n",
       "      <td>...</td>\n",
       "      <td>high</td>\n",
       "      <td>medium</td>\n",
       "      <td>1458.17</td>\n",
       "      <td>874.90</td>\n",
       "      <td>38750.0</td>\n",
       "      <td>9491 Green Ridge Terrace</td>\n",
       "      <td>2100</td>\n",
       "      <td>NSW</td>\n",
       "      <td>Australia</td>\n",
       "      <td>10</td>\n",
       "    </tr>\n",
       "  </tbody>\n",
       "</table>\n",
       "<p>19968 rows × 30 columns</p>\n",
       "</div>"
      ],
      "text/plain": [
       "       customer_id first_name  last_name  gender  \\\n",
       "0                1    Laraine  Medendorp       F   \n",
       "1                1    Laraine  Medendorp       F   \n",
       "2                1    Laraine  Medendorp       F   \n",
       "3                1    Laraine  Medendorp       F   \n",
       "4                1    Laraine  Medendorp       F   \n",
       "...            ...        ...        ...     ...   \n",
       "19963         3500       Josy    Fleeman  Female   \n",
       "19964         3500       Josy    Fleeman  Female   \n",
       "19965         3500       Josy    Fleeman  Female   \n",
       "19966         3500       Josy    Fleeman  Female   \n",
       "19967         3500       Josy    Fleeman  Female   \n",
       "\n",
       "       past_3_years_bike_related_purchases        DOB            job_title  \\\n",
       "0                                       93 1953-10-12  Executive Secretary   \n",
       "1                                       93 1953-10-12  Executive Secretary   \n",
       "2                                       93 1953-10-12  Executive Secretary   \n",
       "3                                       93 1953-10-12  Executive Secretary   \n",
       "4                                       93 1953-10-12  Executive Secretary   \n",
       "...                                    ...        ...                  ...   \n",
       "19963                                   71 1967-07-21                  NaN   \n",
       "19964                                   71 1967-07-21                  NaN   \n",
       "19965                                   71 1967-07-21                  NaN   \n",
       "19966                                   71 1967-07-21                  NaN   \n",
       "19967                                   71 1967-07-21                  NaN   \n",
       "\n",
       "      job_industry_category     wealth_segment deceased_indicator  ...  \\\n",
       "0                    Health      Mass Customer                  N  ...   \n",
       "1                    Health      Mass Customer                  N  ...   \n",
       "2                    Health      Mass Customer                  N  ...   \n",
       "3                    Health      Mass Customer                  N  ...   \n",
       "4                    Health      Mass Customer                  N  ...   \n",
       "...                     ...                ...                ...  ...   \n",
       "19963         Entertainment  Affluent Customer                  N  ...   \n",
       "19964         Entertainment  Affluent Customer                  N  ...   \n",
       "19965         Entertainment  Affluent Customer                  N  ...   \n",
       "19966         Entertainment  Affluent Customer                  N  ...   \n",
       "19967         Entertainment  Affluent Customer                  N  ...   \n",
       "\n",
       "      product_class product_size  list_price  standard_cost  \\\n",
       "0            medium       medium      235.63         125.07   \n",
       "1            medium       medium     1577.53         826.51   \n",
       "2               low        small     1720.70        1531.42   \n",
       "3            medium       medium      360.40         270.30   \n",
       "4            medium       medium       71.49          53.62   \n",
       "...             ...          ...         ...            ...   \n",
       "19963        medium       medium      792.90         594.68   \n",
       "19964        medium       medium     1228.07         400.91   \n",
       "19965        medium        small     1311.44        1167.18   \n",
       "19966        medium       medium       60.34          45.26   \n",
       "19967          high       medium     1458.17         874.90   \n",
       "\n",
       "       product_first_sold_date                   address  postcode  \\\n",
       "0                      38482.0        060 Morning Avenue      2016   \n",
       "1                      39526.0        060 Morning Avenue      2016   \n",
       "2                      37823.0        060 Morning Avenue      2016   \n",
       "3                      37873.0        060 Morning Avenue      2016   \n",
       "4                      38573.0        060 Morning Avenue      2016   \n",
       "...                        ...                       ...       ...   \n",
       "19963                  33879.0  9491 Green Ridge Terrace      2100   \n",
       "19964                  36668.0  9491 Green Ridge Terrace      2100   \n",
       "19965                  33888.0  9491 Green Ridge Terrace      2100   \n",
       "19966                  34165.0  9491 Green Ridge Terrace      2100   \n",
       "19967                  38750.0  9491 Green Ridge Terrace      2100   \n",
       "\n",
       "                 state    country property_valuation  \n",
       "0      New South Wales  Australia                 10  \n",
       "1      New South Wales  Australia                 10  \n",
       "2      New South Wales  Australia                 10  \n",
       "3      New South Wales  Australia                 10  \n",
       "4      New South Wales  Australia                 10  \n",
       "...                ...        ...                ...  \n",
       "19963              NSW  Australia                 10  \n",
       "19964              NSW  Australia                 10  \n",
       "19965              NSW  Australia                 10  \n",
       "19966              NSW  Australia                 10  \n",
       "19967              NSW  Australia                 10  \n",
       "\n",
       "[19968 rows x 30 columns]"
      ]
     },
     "execution_count": 238,
     "metadata": {},
     "output_type": "execute_result"
    }
   ],
   "source": [
    "# Merge the dataset within these three files\n",
    "\n",
    "df= pd.merge(demographic, transanction, on = 'customer_id')\n",
    "df= pd.merge(df,cust_address, on = 'customer_id')\n",
    "df"
   ]
  },
  {
   "cell_type": "code",
   "execution_count": 239,
   "metadata": {},
   "outputs": [
    {
     "data": {
      "text/plain": [
       "(19968, 30)"
      ]
     },
     "execution_count": 239,
     "metadata": {},
     "output_type": "execute_result"
    }
   ],
   "source": [
    "# Dataframe dimension (rows, columns)\n",
    "\n",
    "df.shape"
   ]
  },
  {
   "cell_type": "code",
   "execution_count": 240,
   "metadata": {},
   "outputs": [
    {
     "name": "stdout",
     "output_type": "stream",
     "text": [
      "<class 'pandas.core.frame.DataFrame'>\n",
      "Int64Index: 19968 entries, 0 to 19967\n",
      "Data columns (total 30 columns):\n",
      " #   Column                               Non-Null Count  Dtype         \n",
      "---  ------                               --------------  -----         \n",
      " 0   customer_id                          19968 non-null  int64         \n",
      " 1   first_name                           19968 non-null  object        \n",
      " 2   last_name                            19326 non-null  object        \n",
      " 3   gender                               19968 non-null  object        \n",
      " 4   past_3_years_bike_related_purchases  19968 non-null  int64         \n",
      " 5   DOB                                  19522 non-null  datetime64[ns]\n",
      " 6   job_title                            17589 non-null  object        \n",
      " 7   job_industry_category                16746 non-null  object        \n",
      " 8   wealth_segment                       19968 non-null  object        \n",
      " 9   deceased_indicator                   19968 non-null  object        \n",
      " 10  default                              18517 non-null  object        \n",
      " 11  owns_car                             19968 non-null  object        \n",
      " 12  tenure                               19522 non-null  float64       \n",
      " 13  transaction_id                       19968 non-null  int64         \n",
      " 14  product_id                           19968 non-null  int64         \n",
      " 15  transaction_date                     19968 non-null  datetime64[ns]\n",
      " 16  online_order                         19609 non-null  float64       \n",
      " 17  order_status                         19968 non-null  object        \n",
      " 18  brand                                19773 non-null  object        \n",
      " 19  product_line                         19773 non-null  object        \n",
      " 20  product_class                        19773 non-null  object        \n",
      " 21  product_size                         19773 non-null  object        \n",
      " 22  list_price                           19968 non-null  float64       \n",
      " 23  standard_cost                        19773 non-null  float64       \n",
      " 24  product_first_sold_date              19773 non-null  float64       \n",
      " 25  address                              19968 non-null  object        \n",
      " 26  postcode                             19968 non-null  int64         \n",
      " 27  state                                19968 non-null  object        \n",
      " 28  country                              19968 non-null  object        \n",
      " 29  property_valuation                   19968 non-null  int64         \n",
      "dtypes: datetime64[ns](2), float64(5), int64(6), object(17)\n",
      "memory usage: 4.7+ MB\n"
     ]
    }
   ],
   "source": [
    "# Data Profiling (i.e. data types, non null values and columns)\n",
    "\n",
    "df.info()"
   ]
  },
  {
   "cell_type": "code",
   "execution_count": 241,
   "metadata": {},
   "outputs": [
    {
     "data": {
      "text/plain": [
       "0"
      ]
     },
     "execution_count": 241,
     "metadata": {},
     "output_type": "execute_result"
    }
   ],
   "source": [
    "# Checking any duplicate values in the datset\n",
    "\n",
    "df.duplicated().sum()  # No duplicate values"
   ]
  },
  {
   "cell_type": "code",
   "execution_count": 242,
   "metadata": {},
   "outputs": [
    {
     "data": {
      "text/plain": [
       "customer_id                               0\n",
       "first_name                                0\n",
       "last_name                               642\n",
       "gender                                    0\n",
       "past_3_years_bike_related_purchases       0\n",
       "DOB                                     446\n",
       "job_title                              2379\n",
       "job_industry_category                  3222\n",
       "wealth_segment                            0\n",
       "deceased_indicator                        0\n",
       "default                                1451\n",
       "owns_car                                  0\n",
       "tenure                                  446\n",
       "transaction_id                            0\n",
       "product_id                                0\n",
       "transaction_date                          0\n",
       "online_order                            359\n",
       "order_status                              0\n",
       "brand                                   195\n",
       "product_line                            195\n",
       "product_class                           195\n",
       "product_size                            195\n",
       "list_price                                0\n",
       "standard_cost                           195\n",
       "product_first_sold_date                 195\n",
       "address                                   0\n",
       "postcode                                  0\n",
       "state                                     0\n",
       "country                                   0\n",
       "property_valuation                        0\n",
       "dtype: int64"
      ]
     },
     "execution_count": 242,
     "metadata": {},
     "output_type": "execute_result"
    }
   ],
   "source": [
    "# Null values in the datset\n",
    "\n",
    "df.isnull().sum()"
   ]
  },
  {
   "attachments": {},
   "cell_type": "markdown",
   "metadata": {},
   "source": [
    "In the demographic sheet their are 6 column having missing dataset i.e job_industry_category,  job_title,  job_title, DOB,  last_name,  and tenure."
   ]
  },
  {
   "cell_type": "code",
   "execution_count": 243,
   "metadata": {},
   "outputs": [
    {
     "data": {
      "text/plain": [
       "customer_id                             3489\n",
       "first_name                              2835\n",
       "last_name                               3263\n",
       "gender                                     6\n",
       "past_3_years_bike_related_purchases      100\n",
       "DOB                                     3047\n",
       "job_title                                195\n",
       "job_industry_category                      9\n",
       "wealth_segment                             3\n",
       "deceased_indicator                         2\n",
       "default                                   90\n",
       "owns_car                                   2\n",
       "tenure                                    22\n",
       "transaction_id                         19968\n",
       "product_id                               101\n",
       "transaction_date                         364\n",
       "online_order                               2\n",
       "order_status                               2\n",
       "brand                                      6\n",
       "product_line                               4\n",
       "product_class                              3\n",
       "product_size                               3\n",
       "list_price                               294\n",
       "standard_cost                            100\n",
       "product_first_sold_date                  100\n",
       "address                                 3487\n",
       "postcode                                 835\n",
       "state                                      5\n",
       "country                                    1\n",
       "property_valuation                        12\n",
       "dtype: int64"
      ]
     },
     "execution_count": 243,
     "metadata": {},
     "output_type": "execute_result"
    }
   ],
   "source": [
    "# Check unique values in each columns;\n",
    "\n",
    "df.nunique()"
   ]
  },
  {
   "cell_type": "code",
   "execution_count": 244,
   "metadata": {},
   "outputs": [
    {
     "data": {
      "text/plain": [
       "Index(['customer_id', 'first_name', 'last_name', 'gender',\n",
       "       'past_3_years_bike_related_purchases', 'DOB', 'job_title',\n",
       "       'job_industry_category', 'wealth_segment', 'deceased_indicator',\n",
       "       'default', 'owns_car', 'tenure', 'transaction_id', 'product_id',\n",
       "       'transaction_date', 'online_order', 'order_status', 'brand',\n",
       "       'product_line', 'product_class', 'product_size', 'list_price',\n",
       "       'standard_cost', 'product_first_sold_date', 'address', 'postcode',\n",
       "       'state', 'country', 'property_valuation'],\n",
       "      dtype='object')"
      ]
     },
     "execution_count": 244,
     "metadata": {},
     "output_type": "execute_result"
    }
   ],
   "source": [
    "# Explore the columns\n",
    "\n",
    "df.columns"
   ]
  },
  {
   "cell_type": "code",
   "execution_count": 245,
   "metadata": {},
   "outputs": [
    {
     "data": {
      "text/plain": [
       "Female    9979\n",
       "Male      9510\n",
       "U          455\n",
       "F           11\n",
       "Femal        7\n",
       "M            6\n",
       "Name: gender, dtype: int64"
      ]
     },
     "execution_count": 245,
     "metadata": {},
     "output_type": "execute_result"
    }
   ],
   "source": [
    "# 1.Gender\n",
    "\n",
    "df['gender'].value_counts()"
   ]
  },
  {
   "cell_type": "code",
   "execution_count": 246,
   "metadata": {},
   "outputs": [
    {
     "data": {
      "image/png": "[encoded data removed]",
      "text/plain": [
       "<Figure size 640x480 with 1 Axes>"
      ]
     },
     "metadata": {},
     "output_type": "display_data"
    }
   ],
   "source": [
    "# Replace the categorical values\n",
    "\n",
    "df['gender'].replace('M', 'Male', inplace=True)\n",
    "df['gender'].replace('F', 'Female', inplace=True)\n",
    "df['gender'].replace('Femal', 'Female', inplace=True)\n",
    "df['gender'].replace('U', 'Unspecified', inplace=True)\n",
    "\n",
    "gender_counts = df['gender'].value_counts()\n",
    "\n",
    "# Plotting the gender counts with color\n",
    "plt.bar(gender_counts.index, gender_counts.values, color=['pink', 'lightgreen', 'lavender'])\n",
    "plt.xlabel('Gender')\n",
    "plt.ylabel('Count')\n",
    "plt.title('Gender Distribution')\n",
    "\n",
    "plt.show()\n"
   ]
  },
  {
   "cell_type": "code",
   "execution_count": 247,
   "metadata": {},
   "outputs": [
    {
     "data": {
      "text/plain": [
       "16    291\n",
       "80    273\n",
       "48    257\n",
       "20    256\n",
       "2     256\n",
       "     ... \n",
       "3     133\n",
       "92    118\n",
       "8     115\n",
       "85    115\n",
       "86    108\n",
       "Name: past_3_years_bike_related_purchases, Length: 100, dtype: int64"
      ]
     },
     "execution_count": 247,
     "metadata": {},
     "output_type": "execute_result"
    }
   ],
   "source": [
    "# 2. past_3_years_bike_related_purchases column\n",
    "\n",
    "df['past_3_years_bike_related_purchases'].value_counts()"
   ]
  },
  {
   "cell_type": "code",
   "execution_count": 248,
   "metadata": {},
   "outputs": [
    {
     "data": {
      "text/html": [
       "<div>\n",
       "<style scoped>\n",
       "    .dataframe tbody tr th:only-of-type {\n",
       "        vertical-align: middle;\n",
       "    }\n",
       "\n",
       "    .dataframe tbody tr th {\n",
       "        vertical-align: top;\n",
       "    }\n",
       "\n",
       "    .dataframe thead th {\n",
       "        text-align: right;\n",
       "    }\n",
       "</style>\n",
       "<table border=\"1\" class=\"dataframe\">\n",
       "  <thead>\n",
       "    <tr style=\"text-align: right;\">\n",
       "      <th></th>\n",
       "      <th>customer_id</th>\n",
       "      <th>first_name</th>\n",
       "      <th>last_name</th>\n",
       "      <th>gender</th>\n",
       "      <th>past_3_years_bike_related_purchases</th>\n",
       "      <th>DOB</th>\n",
       "      <th>job_title</th>\n",
       "      <th>job_industry_category</th>\n",
       "      <th>wealth_segment</th>\n",
       "      <th>deceased_indicator</th>\n",
       "      <th>...</th>\n",
       "      <th>product_size</th>\n",
       "      <th>list_price</th>\n",
       "      <th>standard_cost</th>\n",
       "      <th>product_first_sold_date</th>\n",
       "      <th>address</th>\n",
       "      <th>postcode</th>\n",
       "      <th>state</th>\n",
       "      <th>country</th>\n",
       "      <th>property_valuation</th>\n",
       "      <th>age</th>\n",
       "    </tr>\n",
       "  </thead>\n",
       "  <tbody>\n",
       "    <tr>\n",
       "      <th>171</th>\n",
       "      <td>34</td>\n",
       "      <td>Jephthah</td>\n",
       "      <td>Bachmann</td>\n",
       "      <td>Unspecified</td>\n",
       "      <td>59</td>\n",
       "      <td>1843-12-21</td>\n",
       "      <td>Legal Assistant</td>\n",
       "      <td>IT</td>\n",
       "      <td>Affluent Customer</td>\n",
       "      <td>N</td>\n",
       "      <td>...</td>\n",
       "      <td>small</td>\n",
       "      <td>1703.52</td>\n",
       "      <td>1516.13</td>\n",
       "      <td>40649.0</td>\n",
       "      <td>833 Luster Way</td>\n",
       "      <td>4005</td>\n",
       "      <td>QLD</td>\n",
       "      <td>Australia</td>\n",
       "      <td>8</td>\n",
       "      <td>179.433081</td>\n",
       "    </tr>\n",
       "    <tr>\n",
       "      <th>172</th>\n",
       "      <td>34</td>\n",
       "      <td>Jephthah</td>\n",
       "      <td>Bachmann</td>\n",
       "      <td>Unspecified</td>\n",
       "      <td>59</td>\n",
       "      <td>1843-12-21</td>\n",
       "      <td>Legal Assistant</td>\n",
       "      <td>IT</td>\n",
       "      <td>Affluent Customer</td>\n",
       "      <td>N</td>\n",
       "      <td>...</td>\n",
       "      <td>medium</td>\n",
       "      <td>958.74</td>\n",
       "      <td>748.90</td>\n",
       "      <td>38693.0</td>\n",
       "      <td>833 Luster Way</td>\n",
       "      <td>4005</td>\n",
       "      <td>QLD</td>\n",
       "      <td>Australia</td>\n",
       "      <td>8</td>\n",
       "      <td>179.433081</td>\n",
       "    </tr>\n",
       "    <tr>\n",
       "      <th>173</th>\n",
       "      <td>34</td>\n",
       "      <td>Jephthah</td>\n",
       "      <td>Bachmann</td>\n",
       "      <td>Unspecified</td>\n",
       "      <td>59</td>\n",
       "      <td>1843-12-21</td>\n",
       "      <td>Legal Assistant</td>\n",
       "      <td>IT</td>\n",
       "      <td>Affluent Customer</td>\n",
       "      <td>N</td>\n",
       "      <td>...</td>\n",
       "      <td>large</td>\n",
       "      <td>2083.94</td>\n",
       "      <td>675.03</td>\n",
       "      <td>41533.0</td>\n",
       "      <td>833 Luster Way</td>\n",
       "      <td>4005</td>\n",
       "      <td>QLD</td>\n",
       "      <td>Australia</td>\n",
       "      <td>8</td>\n",
       "      <td>179.433081</td>\n",
       "    </tr>\n",
       "    <tr>\n",
       "      <th>174</th>\n",
       "      <td>34</td>\n",
       "      <td>Jephthah</td>\n",
       "      <td>Bachmann</td>\n",
       "      <td>Unspecified</td>\n",
       "      <td>59</td>\n",
       "      <td>1843-12-21</td>\n",
       "      <td>Legal Assistant</td>\n",
       "      <td>IT</td>\n",
       "      <td>Affluent Customer</td>\n",
       "      <td>N</td>\n",
       "      <td>...</td>\n",
       "      <td>medium</td>\n",
       "      <td>1231.15</td>\n",
       "      <td>161.60</td>\n",
       "      <td>38216.0</td>\n",
       "      <td>833 Luster Way</td>\n",
       "      <td>4005</td>\n",
       "      <td>QLD</td>\n",
       "      <td>Australia</td>\n",
       "      <td>8</td>\n",
       "      <td>179.433081</td>\n",
       "    </tr>\n",
       "    <tr>\n",
       "      <th>175</th>\n",
       "      <td>34</td>\n",
       "      <td>Jephthah</td>\n",
       "      <td>Bachmann</td>\n",
       "      <td>Unspecified</td>\n",
       "      <td>59</td>\n",
       "      <td>1843-12-21</td>\n",
       "      <td>Legal Assistant</td>\n",
       "      <td>IT</td>\n",
       "      <td>Affluent Customer</td>\n",
       "      <td>N</td>\n",
       "      <td>...</td>\n",
       "      <td>small</td>\n",
       "      <td>1977.36</td>\n",
       "      <td>1759.85</td>\n",
       "      <td>40779.0</td>\n",
       "      <td>833 Luster Way</td>\n",
       "      <td>4005</td>\n",
       "      <td>QLD</td>\n",
       "      <td>Australia</td>\n",
       "      <td>8</td>\n",
       "      <td>179.433081</td>\n",
       "    </tr>\n",
       "    <tr>\n",
       "      <th>176</th>\n",
       "      <td>34</td>\n",
       "      <td>Jephthah</td>\n",
       "      <td>Bachmann</td>\n",
       "      <td>Unspecified</td>\n",
       "      <td>59</td>\n",
       "      <td>1843-12-21</td>\n",
       "      <td>Legal Assistant</td>\n",
       "      <td>IT</td>\n",
       "      <td>Affluent Customer</td>\n",
       "      <td>N</td>\n",
       "      <td>...</td>\n",
       "      <td>medium</td>\n",
       "      <td>1163.89</td>\n",
       "      <td>589.27</td>\n",
       "      <td>42560.0</td>\n",
       "      <td>833 Luster Way</td>\n",
       "      <td>4005</td>\n",
       "      <td>QLD</td>\n",
       "      <td>Australia</td>\n",
       "      <td>8</td>\n",
       "      <td>179.433081</td>\n",
       "    </tr>\n",
       "    <tr>\n",
       "      <th>177</th>\n",
       "      <td>34</td>\n",
       "      <td>Jephthah</td>\n",
       "      <td>Bachmann</td>\n",
       "      <td>Unspecified</td>\n",
       "      <td>59</td>\n",
       "      <td>1843-12-21</td>\n",
       "      <td>Legal Assistant</td>\n",
       "      <td>IT</td>\n",
       "      <td>Affluent Customer</td>\n",
       "      <td>N</td>\n",
       "      <td>...</td>\n",
       "      <td>NaN</td>\n",
       "      <td>1034.17</td>\n",
       "      <td>NaN</td>\n",
       "      <td>NaN</td>\n",
       "      <td>833 Luster Way</td>\n",
       "      <td>4005</td>\n",
       "      <td>QLD</td>\n",
       "      <td>Australia</td>\n",
       "      <td>8</td>\n",
       "      <td>179.433081</td>\n",
       "    </tr>\n",
       "    <tr>\n",
       "      <th>178</th>\n",
       "      <td>34</td>\n",
       "      <td>Jephthah</td>\n",
       "      <td>Bachmann</td>\n",
       "      <td>Unspecified</td>\n",
       "      <td>59</td>\n",
       "      <td>1843-12-21</td>\n",
       "      <td>Legal Assistant</td>\n",
       "      <td>IT</td>\n",
       "      <td>Affluent Customer</td>\n",
       "      <td>N</td>\n",
       "      <td>...</td>\n",
       "      <td>small</td>\n",
       "      <td>1172.78</td>\n",
       "      <td>1043.77</td>\n",
       "      <td>37539.0</td>\n",
       "      <td>833 Luster Way</td>\n",
       "      <td>4005</td>\n",
       "      <td>QLD</td>\n",
       "      <td>Australia</td>\n",
       "      <td>8</td>\n",
       "      <td>179.433081</td>\n",
       "    </tr>\n",
       "    <tr>\n",
       "      <th>179</th>\n",
       "      <td>34</td>\n",
       "      <td>Jephthah</td>\n",
       "      <td>Bachmann</td>\n",
       "      <td>Unspecified</td>\n",
       "      <td>59</td>\n",
       "      <td>1843-12-21</td>\n",
       "      <td>Legal Assistant</td>\n",
       "      <td>IT</td>\n",
       "      <td>Affluent Customer</td>\n",
       "      <td>N</td>\n",
       "      <td>...</td>\n",
       "      <td>medium</td>\n",
       "      <td>1807.45</td>\n",
       "      <td>778.69</td>\n",
       "      <td>42145.0</td>\n",
       "      <td>833 Luster Way</td>\n",
       "      <td>4005</td>\n",
       "      <td>QLD</td>\n",
       "      <td>Australia</td>\n",
       "      <td>8</td>\n",
       "      <td>179.433081</td>\n",
       "    </tr>\n",
       "  </tbody>\n",
       "</table>\n",
       "<p>9 rows × 31 columns</p>\n",
       "</div>"
      ],
      "text/plain": [
       "     customer_id first_name last_name       gender  \\\n",
       "171           34   Jephthah  Bachmann  Unspecified   \n",
       "172           34   Jephthah  Bachmann  Unspecified   \n",
       "173           34   Jephthah  Bachmann  Unspecified   \n",
       "174           34   Jephthah  Bachmann  Unspecified   \n",
       "175           34   Jephthah  Bachmann  Unspecified   \n",
       "176           34   Jephthah  Bachmann  Unspecified   \n",
       "177           34   Jephthah  Bachmann  Unspecified   \n",
       "178           34   Jephthah  Bachmann  Unspecified   \n",
       "179           34   Jephthah  Bachmann  Unspecified   \n",
       "\n",
       "     past_3_years_bike_related_purchases        DOB        job_title  \\\n",
       "171                                   59 1843-12-21  Legal Assistant   \n",
       "172                                   59 1843-12-21  Legal Assistant   \n",
       "173                                   59 1843-12-21  Legal Assistant   \n",
       "174                                   59 1843-12-21  Legal Assistant   \n",
       "175                                   59 1843-12-21  Legal Assistant   \n",
       "176                                   59 1843-12-21  Legal Assistant   \n",
       "177                                   59 1843-12-21  Legal Assistant   \n",
       "178                                   59 1843-12-21  Legal Assistant   \n",
       "179                                   59 1843-12-21  Legal Assistant   \n",
       "\n",
       "    job_industry_category     wealth_segment deceased_indicator  ...  \\\n",
       "171                    IT  Affluent Customer                  N  ...   \n",
       "172                    IT  Affluent Customer                  N  ...   \n",
       "173                    IT  Affluent Customer                  N  ...   \n",
       "174                    IT  Affluent Customer                  N  ...   \n",
       "175                    IT  Affluent Customer                  N  ...   \n",
       "176                    IT  Affluent Customer                  N  ...   \n",
       "177                    IT  Affluent Customer                  N  ...   \n",
       "178                    IT  Affluent Customer                  N  ...   \n",
       "179                    IT  Affluent Customer                  N  ...   \n",
       "\n",
       "    product_size list_price  standard_cost  product_first_sold_date  \\\n",
       "171        small    1703.52        1516.13                  40649.0   \n",
       "172       medium     958.74         748.90                  38693.0   \n",
       "173        large    2083.94         675.03                  41533.0   \n",
       "174       medium    1231.15         161.60                  38216.0   \n",
       "175        small    1977.36        1759.85                  40779.0   \n",
       "176       medium    1163.89         589.27                  42560.0   \n",
       "177          NaN    1034.17            NaN                      NaN   \n",
       "178        small    1172.78        1043.77                  37539.0   \n",
       "179       medium    1807.45         778.69                  42145.0   \n",
       "\n",
       "            address postcode  state    country property_valuation         age  \n",
       "171  833 Luster Way     4005    QLD  Australia                  8  179.433081  \n",
       "172  833 Luster Way     4005    QLD  Australia                  8  179.433081  \n",
       "173  833 Luster Way     4005    QLD  Australia                  8  179.433081  \n",
       "174  833 Luster Way     4005    QLD  Australia                  8  179.433081  \n",
       "175  833 Luster Way     4005    QLD  Australia                  8  179.433081  \n",
       "176  833 Luster Way     4005    QLD  Australia                  8  179.433081  \n",
       "177  833 Luster Way     4005    QLD  Australia                  8  179.433081  \n",
       "178  833 Luster Way     4005    QLD  Australia                  8  179.433081  \n",
       "179  833 Luster Way     4005    QLD  Australia                  8  179.433081  \n",
       "\n",
       "[9 rows x 31 columns]"
      ]
     },
     "execution_count": 248,
     "metadata": {},
     "output_type": "execute_result"
    }
   ],
   "source": [
    "# 3. Checking DOB column for any ages above 100\n",
    "\n",
    "# Get the current date\n",
    "current_date = datetime.now()       \n",
    "\n",
    "# Calculate the age by subtracting the DOB from the current date\n",
    "df['age'] = (current_date - df['DOB']) / pd.Timedelta(days=365.25)\n",
    "\n",
    "# Filter rows where age is greater than 100\n",
    "age_greater_than_100 = df[df['age'] > 100]\n",
    "\n",
    "# print age greater than 100\n",
    "age_greater_than_100"
   ]
  },
  {
   "attachments": {},
   "cell_type": "markdown",
   "metadata": {},
   "source": [
    "Here, we have one customers with customer id =34, having age more than 100, which is practically impossible. Thus, we need drop it."
   ]
  },
  {
   "cell_type": "code",
   "execution_count": 249,
   "metadata": {},
   "outputs": [],
   "source": [
    "# Drop rows where customer ID = 34\n",
    "\n",
    "customer_id = 34\n",
    "\n",
    "# Drop rows with customer ID 34\n",
    "df = df.drop(df[df['customer_id'] == customer_id].index)"
   ]
  },
  {
   "cell_type": "code",
   "execution_count": 250,
   "metadata": {},
   "outputs": [
    {
     "data": {
      "text/plain": [
       "Social Worker                           226\n",
       "Business Systems Development Analyst    221\n",
       "Assistant Professor                     212\n",
       "Legal Assistant                         212\n",
       "Executive Secretary                     208\n",
       "                                       ... \n",
       "Administrative Assistant I               15\n",
       "Health Coach III                         14\n",
       "Geologist II                             11\n",
       "Research Assistant III                    9\n",
       "Developer I                               7\n",
       "Name: job_title, Length: 195, dtype: int64"
      ]
     },
     "execution_count": 250,
     "metadata": {},
     "output_type": "execute_result"
    }
   ],
   "source": [
    "# 4. Checking job_title \n",
    "\n",
    "df['job_title'].value_counts()\n"
   ]
  },
  {
   "attachments": {},
   "cell_type": "markdown",
   "metadata": {},
   "source": [
    "It seems like more of the individula work as a Social Worker, Business analyst, Assistant Professor,Legal Assistant, Executive secretary are some of the prime users."
   ]
  },
  {
   "cell_type": "code",
   "execution_count": 251,
   "metadata": {},
   "outputs": [
    {
     "data": {
      "image/png": "[encoded data removed]",
      "text/plain": [
       "<Figure size 640x480 with 1 Axes>"
      ]
     },
     "metadata": {},
     "output_type": "display_data"
    }
   ],
   "source": [
    "# 5. Checking job_industry_category \n",
    "\n",
    "job_industry_category = df['job_industry_category'].value_counts()\n",
    "\n",
    "# Plotting the Job Industry counts with color using Seaborn\n",
    "sns.countplot(x='job_industry_category', data=df, palette='Set3')\n",
    "plt.xlabel('Job Industry')\n",
    "plt.ylabel('Count')\n",
    "plt.title('Job Industry Distribution')\n",
    "\n",
    "# Rotate x-axis tick labels\n",
    "plt.xticks(rotation=45, ha='right')\n",
    "\n",
    "plt.show()"
   ]
  },
  {
   "attachments": {},
   "cell_type": "markdown",
   "metadata": {},
   "source": [
    "It seems like more of the individula work for Manufacturing, Financial Services & Health are the prime users followed by Retail, Property & IT domain. "
   ]
  },
  {
   "cell_type": "code",
   "execution_count": 252,
   "metadata": {},
   "outputs": [
    {
     "data": {
      "image/png": "[encoded data removed]",
      "text/plain": [
       "<Figure size 640x480 with 1 Axes>"
      ]
     },
     "metadata": {},
     "output_type": "display_data"
    }
   ],
   "source": [
    "# 6. Checking wealth_segment \n",
    " \n",
    "wealth_segment = df['wealth_segment'].value_counts()\n",
    "\n",
    "# Plotting the gender counts with color\n",
    "plt.bar(wealth_segment.index, wealth_segment.values, color=['pink', 'lightgreen', 'lavender'])\n",
    "plt.xlabel('Wealth Segment')\n",
    "plt.ylabel('Count')\n",
    "plt.title('Wealth Segment Distribution')\n",
    "\n",
    "plt.show()"
   ]
  },
  {
   "cell_type": "code",
   "execution_count": 253,
   "metadata": {},
   "outputs": [],
   "source": [
    "# 7. Checking default \n",
    "\n",
    "df['default'].value_counts()\n",
    "df = df.drop('default', axis=1)"
   ]
  },
  {
   "attachments": {},
   "cell_type": "markdown",
   "metadata": {},
   "source": [
    "This default column is of no importance and can be deleted."
   ]
  },
  {
   "cell_type": "code",
   "execution_count": 254,
   "metadata": {},
   "outputs": [
    {
     "data": {
      "text/plain": [
       "N    19951\n",
       "Y        8\n",
       "Name: deceased_indicator, dtype: int64"
      ]
     },
     "execution_count": 254,
     "metadata": {},
     "output_type": "execute_result"
    }
   ],
   "source": [
    "# 8. Checking deceased_indicator \n",
    "\n",
    "df['deceased_indicator'].value_counts()"
   ]
  },
  {
   "attachments": {},
   "cell_type": "markdown",
   "metadata": {},
   "source": [
    "We have two deceased customer"
   ]
  },
  {
   "cell_type": "code",
   "execution_count": 255,
   "metadata": {},
   "outputs": [
    {
     "data": {
      "text/plain": [
       "Yes    10042\n",
       "No      9917\n",
       "Name: owns_car, dtype: int64"
      ]
     },
     "execution_count": 255,
     "metadata": {},
     "output_type": "execute_result"
    }
   ],
   "source": [
    "# 9. Checking owns_car \n",
    "\n",
    "df['owns_car'].value_counts()"
   ]
  },
  {
   "attachments": {},
   "cell_type": "markdown",
   "metadata": {},
   "source": [
    "Looks like we have equal number of customers who has a car and who doesnt have a car."
   ]
  },
  {
   "cell_type": "code",
   "execution_count": 256,
   "metadata": {},
   "outputs": [
    {
     "data": {
      "text/plain": [
       "7.0     1190\n",
       "5.0     1096\n",
       "11.0    1088\n",
       "16.0    1067\n",
       "12.0    1060\n",
       "8.0     1032\n",
       "14.0    1019\n",
       "9.0      995\n",
       "17.0     985\n",
       "10.0     985\n",
       "13.0     973\n",
       "18.0     959\n",
       "6.0      953\n",
       "4.0      929\n",
       "15.0     908\n",
       "1.0      869\n",
       "19.0     837\n",
       "3.0      819\n",
       "2.0      736\n",
       "20.0     483\n",
       "21.0     275\n",
       "22.0     255\n",
       "Name: tenure, dtype: int64"
      ]
     },
     "execution_count": 256,
     "metadata": {},
     "output_type": "execute_result"
    }
   ],
   "source": [
    "# 10. Checking tenure \n",
    "\n",
    "df['tenure'].value_counts()\n"
   ]
  },
  {
   "cell_type": "code",
   "execution_count": 265,
   "metadata": {},
   "outputs": [
    {
     "data": {
      "image/png": "[encoded data removed]",
      "text/plain": [
       "<Figure size 640x480 with 1 Axes>"
      ]
     },
     "metadata": {},
     "output_type": "display_data"
    }
   ],
   "source": [
    "# 11. Checking wealth_segment \n",
    "\n",
    "top_10_product_id = df['product_id'].value_counts().nlargest(10)\n",
    "\n",
    "# Plotting the top 10 Product ID counts using Seaborn\n",
    "sns.countplot(x='product_id', data=df, order=top_10_product_id.index, palette='Set3')\n",
    "plt.xlabel('Product ID')\n",
    "plt.ylabel('Count')\n",
    "plt.title('Top 10 Product Sale')\n",
    "\n",
    "# Rotate x-axis tick labels\n",
    "plt.xticks(rotation=45, ha='right')\n",
    "\n",
    "plt.show()"
   ]
  },
  {
   "cell_type": "code",
   "execution_count": 257,
   "metadata": {},
   "outputs": [
    {
     "data": {
      "text/plain": [
       "NSW                10200\n",
       "VIC                 4541\n",
       "QLD                 4253\n",
       "New South Wales      485\n",
       "Victoria             480\n",
       "Name: state, dtype: int64"
      ]
     },
     "execution_count": 257,
     "metadata": {},
     "output_type": "execute_result"
    }
   ],
   "source": [
    "df['state'].value_counts()"
   ]
  },
  {
   "cell_type": "code",
   "execution_count": 258,
   "metadata": {},
   "outputs": [
    {
     "data": {
      "image/png": "[encoded data removed]",
      "text/plain": [
       "<Figure size 640x480 with 1 Axes>"
      ]
     },
     "metadata": {},
     "output_type": "display_data"
    }
   ],
   "source": [
    "# Replace the categorical values\n",
    "\n",
    "df['state'].replace('New South Wales', 'NSW', inplace=True)\n",
    "df['state'].replace('Victoria', 'VIC', inplace=True)\n",
    "\n",
    "state = df['state'].value_counts()\n",
    "\n",
    "# Plotting the gender counts with color\n",
    "plt.bar(state.index, state.values, color=['pink', 'lightgreen', 'lavender'])\n",
    "plt.xlabel('state')\n",
    "plt.ylabel('Count')\n",
    "plt.title('state Distribution')\n",
    "\n",
    "plt.show()\n"
   ]
  },
  {
   "cell_type": "code",
   "execution_count": 259,
   "metadata": {},
   "outputs": [
    {
     "data": {
      "image/png": "[encoded data removed]",
      "text/plain": [
       "<Figure size 640x480 with 1 Axes>"
      ]
     },
     "metadata": {},
     "output_type": "display_data"
    }
   ],
   "source": [
    "# Visualize the Age groups\n",
    "\n",
    "# Binning the age values\n",
    "bin_edges = range(0, 101, 10)  # Define the bin edges (0, 10, 20, ..., 100)\n",
    "plt.hist(df['age'], bins=bin_edges, edgecolor='black')\n",
    "\n",
    "# Set labels and title\n",
    "plt.xlabel('Age')\n",
    "plt.ylabel('Count')\n",
    "plt.title('Age Distribution')\n",
    "\n",
    "plt.show()"
   ]
  },
  {
   "attachments": {},
   "cell_type": "markdown",
   "metadata": {},
   "source": [
    "Most of the customer age group are 40-50"
   ]
  },
  {
   "cell_type": "code",
   "execution_count": 260,
   "metadata": {},
   "outputs": [
    {
     "data": {
      "image/png": "[encoded data removed]",
      "text/plain": [
       "<Figure size 640x480 with 1 Axes>"
      ]
     },
     "metadata": {},
     "output_type": "display_data"
    }
   ],
   "source": [
    "# Visualize the Property valuation\n",
    "\n",
    "# Binning the age values\n",
    "bin_edges = range(0, 15, 1)  # Define the bin edges (0, 10, 20, ..., 100)\n",
    "plt.hist(df['property_valuation'], bins=bin_edges, edgecolor='black')\n",
    "\n",
    "# Set labels and title\n",
    "plt.xlabel('property_valuation')\n",
    "plt.ylabel('Count')\n",
    "plt.title('property valuation Distribution');"
   ]
  },
  {
   "attachments": {},
   "cell_type": "markdown",
   "metadata": {},
   "source": [
    "Respective customers having a property valuation range from 7.5 to 10.5 are mostly using the product"
   ]
  },
  {
   "attachments": {},
   "cell_type": "markdown",
   "metadata": {},
   "source": [
    "### 2. Model Development"
   ]
  },
  {
   "cell_type": "code",
   "execution_count": 261,
   "metadata": {},
   "outputs": [
    {
     "data": {
      "text/plain": [
       "Index(['customer_id', 'first_name', 'last_name', 'gender',\n",
       "       'past_3_years_bike_related_purchases', 'DOB', 'job_title',\n",
       "       'job_industry_category', 'wealth_segment', 'deceased_indicator',\n",
       "       'owns_car', 'tenure', 'transaction_id', 'product_id',\n",
       "       'transaction_date', 'online_order', 'order_status', 'brand',\n",
       "       'product_line', 'product_class', 'product_size', 'list_price',\n",
       "       'standard_cost', 'product_first_sold_date', 'address', 'postcode',\n",
       "       'state', 'country', 'property_valuation', 'age'],\n",
       "      dtype='object')"
      ]
     },
     "execution_count": 261,
     "metadata": {},
     "output_type": "execute_result"
    }
   ],
   "source": [
    "df.columns"
   ]
  },
  {
   "attachments": {},
   "cell_type": "markdown",
   "metadata": {},
   "source": [
    "### 3. Interpretation"
   ]
  },
  {
   "cell_type": "code",
   "execution_count": null,
   "metadata": {},
   "outputs": [],
   "source": []
  }
 ],
 "metadata": {
  "kernelspec": {
   "display_name": "MachineLearning",
   "language": "python",
   "name": "python3"
  },
  "language_info": {
   "codemirror_mode": {
    "name": "ipython",
    "version": 3
   },
   "file_extension": ".py",
   "mimetype": "text/x-python",
   "name": "python",
   "nbconvert_exporter": "python",
   "pygments_lexer": "ipython3",
   "version": "3.9.16"
  },
  "orig_nbformat": 4
 },
 "nbformat": 4,
 "nbformat_minor": 2
}
