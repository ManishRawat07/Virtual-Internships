{
 "cells": [
  {
   "attachments": {},
   "cell_type": "markdown",
   "metadata": {},
   "source": [
    "# KPMG Virtual Data Analytics Internship\n",
    "\n",
    "## Problem scenerio\n",
    "\n",
    "For context, Sprocket Central Pty Ltd is a long-standing KPMG client whom specialises in high-quality bikes and accessible cycling accessories to riders. Their marketing team is looking to boost business by analysing their existing customer dataset to determine customer trends and behaviour. \n",
    "\n",
    "Using the existing 3 datasets (Customer demographic, customer address and transactions) as a labelled dataset, please recommend which of these 1000 new customers should be targeted to drive the most value for the organisation. \n",
    "\n",
    "In building this recommendation, we need to start with a PowerPoint presentation which outlines the approach which we will be taking. The client has agreed on a 3 week scope with the following 3 phases as follows - Data Exploration; Model Development and Interpretation.\n",
    "\n",
    "Prepare a detailed approach for completing the analysis including activities – i.e. understanding the data distributions, feature engineering, data transformations, modelling, results interpretation and reporting. This detailed plan needs to be presented to the client to get a sign-off. Please advise what steps you would take. \n",
    "\n",
    "Please ensure your PowerPoint presentation includes a detailed approach for our strategy behind each of the 3 phases including activities involved in each - i.e. understanding the data distributions, feature engineering, data transformations, modelling, results interpretation and reporting. This detailed plan needs to be presented to the client to get a sign-off.\n",
    "\n"
   ]
  },
  {
   "attachments": {},
   "cell_type": "markdown",
   "metadata": {},
   "source": [
    "### Task 2:  Data Quality Assessment for Existing Customers"
   ]
  },
  {
   "cell_type": "code",
   "execution_count": null,
   "metadata": {},
   "outputs": [],
   "source": [
    "import pandas as pd\n",
    "import numpy as np\n",
    "import matplotlib.pyplot as plt\n",
    "import seaborn as sns\n",
    "from datetime import datetime\n",
    "import warnings \n",
    "warnings.filterwarnings(\"ignore\")\n",
    "\n",
    "# Merge the dataset within one sheet\n",
    "\n",
    "# First read the data set into a seperate dataframes \n",
    "demographic = pd.read_excel('KPMG_VI_New_raw_data_update_final.xlsx', sheet_name='CustomerDemographic',skiprows=1)\n",
    "cust_address = pd.read_excel('KPMG_VI_New_raw_data_update_final.xlsx', sheet_name='CustomerAddress',skiprows=1)\n",
    "transanction = pd.read_excel('KPMG_VI_New_raw_data_update_final.xlsx', sheet_name='Transactions',skiprows=1)\n",
    "new_cust_list = pd.read_excel('KPMG_VI_New_raw_data_update_final.xlsx', sheet_name='NewCustomerList',skiprows=1)\n",
    "\n",
    "# Merge the dataset in one dataframe for further analysis\n",
    "df= pd.merge(demographic, transanction, on = 'customer_id')\n",
    "df= pd.merge(df,cust_address, on = 'customer_id')\n",
    "df"
   ]
  },
  {
   "attachments": {},
   "cell_type": "markdown",
   "metadata": {},
   "source": [
    "### Data Exploration "
   ]
  },
  {
   "cell_type": "code",
   "execution_count": null,
   "metadata": {},
   "outputs": [],
   "source": [
    "# Dataframe dimension (rows, columns)\n",
    "\n",
    "df.shape"
   ]
  },
  {
   "cell_type": "code",
   "execution_count": null,
   "metadata": {},
   "outputs": [],
   "source": [
    "# Data Profiling (i.e. data types, non null values and columns)\n",
    "\n",
    "df.info()"
   ]
  },
  {
   "cell_type": "code",
   "execution_count": null,
   "metadata": {},
   "outputs": [],
   "source": [
    "# Checking any duplicate values in the datset\n",
    "\n",
    "df.duplicated().sum()  # No duplicate values"
   ]
  },
  {
   "cell_type": "code",
   "execution_count": null,
   "metadata": {},
   "outputs": [],
   "source": [
    "# Null values in the datset\n",
    "\n",
    "df.isnull().sum()"
   ]
  },
  {
   "attachments": {},
   "cell_type": "markdown",
   "metadata": {},
   "source": [
    "In the demographic sheet their are multiple column having missing dataset i.e last name, DOB, job title, job_industry_category,  job_industry_category,  default, tenure,  online_order,  product_class and product_size etc."
   ]
  },
  {
   "cell_type": "code",
   "execution_count": null,
   "metadata": {},
   "outputs": [],
   "source": [
    "# Check unique values in each columns;\n",
    "\n",
    "df.nunique()"
   ]
  },
  {
   "cell_type": "code",
   "execution_count": null,
   "metadata": {},
   "outputs": [],
   "source": [
    "# Explore the columns\n",
    "\n",
    "df.columns"
   ]
  },
  {
   "cell_type": "code",
   "execution_count": null,
   "metadata": {},
   "outputs": [],
   "source": [
    "# Checking Gender categories\n",
    "\n",
    "df['gender'].value_counts()"
   ]
  },
  {
   "cell_type": "code",
   "execution_count": null,
   "metadata": {},
   "outputs": [],
   "source": [
    "# Replace the categorical values\n",
    "\n",
    "df['gender'].replace('M', 'Male', inplace=True)\n",
    "df['gender'].replace('F', 'Female', inplace=True)\n",
    "df['gender'].replace('Femal', 'Female', inplace=True)\n",
    "df['gender'].replace('U', 'Unspecified', inplace=True)\n",
    "\n",
    "gender_counts = df['gender'].value_counts()\n",
    "\n",
    "# Plotting the gender counts with color\n",
    "plt.bar(gender_counts.index, gender_counts.values, color=['pink', 'lightgreen', 'lavender'])\n",
    "plt.xlabel('Gender')\n",
    "plt.ylabel('Count')\n",
    "plt.title('Gender Distribution')\n",
    "\n",
    "plt.show()\n"
   ]
  },
  {
   "cell_type": "code",
   "execution_count": null,
   "metadata": {},
   "outputs": [],
   "source": [
    "# Checking DOB column for any ages above 100\n",
    "\n",
    "# Get the current date\n",
    "current_date = datetime.now()       \n",
    "\n",
    "# Calculate the age by subtracting the DOB from the current date\n",
    "df['age'] = (current_date - df['DOB']) / pd.Timedelta(days=365.25)\n",
    "\n",
    "# Filter rows where age is greater than 100\n",
    "age_greater_than_100 = df[df['age'] > 100]\n",
    "\n",
    "# print age greater than 100\n",
    "age_greater_than_100"
   ]
  },
  {
   "attachments": {},
   "cell_type": "markdown",
   "metadata": {},
   "source": [
    "Here, we have one customers with customer id =34, having age more than 100, which is practically impossible. Thus, we need drop it."
   ]
  },
  {
   "cell_type": "code",
   "execution_count": null,
   "metadata": {},
   "outputs": [],
   "source": [
    "# Drop rows where customer ID = 34\n",
    "customer_id = 34\n",
    "\n",
    "# Drop rows with customer ID 34\n",
    "df = df.drop(df[df['customer_id'] == customer_id].index)"
   ]
  },
  {
   "cell_type": "code",
   "execution_count": null,
   "metadata": {},
   "outputs": [],
   "source": [
    "# Checking job_title \n",
    "\n",
    "df['job_title'].value_counts()\n"
   ]
  },
  {
   "attachments": {},
   "cell_type": "markdown",
   "metadata": {},
   "source": [
    "It seems like more of the individula work as a Social Worker, Business analyst, Assistant Professor,Legal Assistant, Executive secretary are some of the prime users."
   ]
  },
  {
   "cell_type": "code",
   "execution_count": null,
   "metadata": {},
   "outputs": [],
   "source": [
    "# Checking top customers job category\n",
    "job_industry_category = df['job_industry_category'].value_counts()\n",
    "\n",
    "# Sort the counts in descending order\n",
    "job_industry_category = job_industry_category.sort_values(ascending=False)\n",
    "\n",
    "# Plotting the Job Industry counts with color using Seaborn\n",
    "plt.figure(figsize=(10, 6))\n",
    "sns.countplot(x='job_industry_category', data=df, order=job_industry_category.index, palette='Set3')\n",
    "plt.xlabel('Job Industry')\n",
    "plt.ylabel('Count')\n",
    "plt.title('Job Industry Distribution')\n",
    "\n",
    "# Rotate x-axis tick labels\n",
    "plt.xticks(rotation=45, ha='right')\n",
    "\n",
    "plt.show()"
   ]
  },
  {
   "attachments": {},
   "cell_type": "markdown",
   "metadata": {},
   "source": [
    "It seems like more of the individula work for Manufacturing, Financial Services & Health are the prime users followed by Retail, Property & IT domain. "
   ]
  },
  {
   "cell_type": "code",
   "execution_count": null,
   "metadata": {},
   "outputs": [],
   "source": [
    "# Checking wealth_segment\n",
    "wealth_segment = df['wealth_segment'].value_counts()\n",
    "\n",
    "# Plotting the wealth segment counts with hue\n",
    "sns.countplot(x='wealth_segment', data=df, hue='gender', palette='Set3')\n",
    "plt.xlabel('Wealth Segment')\n",
    "plt.ylabel('Count')\n",
    "plt.title('Wealth Segment Distribution')\n",
    "\n",
    "plt.show()\n"
   ]
  },
  {
   "cell_type": "code",
   "execution_count": null,
   "metadata": {},
   "outputs": [],
   "source": [
    "# Dropping default column\n",
    "\n",
    "df['default'].value_counts()\n",
    "df = df.drop('default', axis=1)"
   ]
  },
  {
   "attachments": {},
   "cell_type": "markdown",
   "metadata": {},
   "source": [
    "This default column is of no importance and can be deleted."
   ]
  },
  {
   "cell_type": "code",
   "execution_count": null,
   "metadata": {},
   "outputs": [],
   "source": [
    "# Checking deceased_indicator \n",
    "\n",
    "df['deceased_indicator'].value_counts()"
   ]
  },
  {
   "attachments": {},
   "cell_type": "markdown",
   "metadata": {},
   "source": [
    "We have two deceased customer"
   ]
  },
  {
   "cell_type": "code",
   "execution_count": null,
   "metadata": {},
   "outputs": [],
   "source": [
    "# Checking owns_car \n",
    "\n",
    "df['owns_car'].value_counts()"
   ]
  },
  {
   "attachments": {},
   "cell_type": "markdown",
   "metadata": {},
   "source": [
    "Looks like we have equal number of customers who has a car and who doesnt have a car."
   ]
  },
  {
   "cell_type": "code",
   "execution_count": null,
   "metadata": {},
   "outputs": [],
   "source": [
    "# Checking tenure \n",
    "\n",
    "df['tenure'].value_counts()\n"
   ]
  },
  {
   "cell_type": "code",
   "execution_count": null,
   "metadata": {},
   "outputs": [],
   "source": [
    "df['product_line'].value_counts()"
   ]
  },
  {
   "cell_type": "code",
   "execution_count": null,
   "metadata": {},
   "outputs": [],
   "source": [
    "# Checking Product class\n",
    "\n",
    "df['product_class'].value_counts()"
   ]
  },
  {
   "cell_type": "code",
   "execution_count": null,
   "metadata": {},
   "outputs": [],
   "source": [
    "# Grouping data by product line and product class and getting their counts\n",
    "product_line_class_counts = df.groupby(['product_line', 'product_class']).size().unstack().fillna(0)\n",
    "\n",
    "# Sort the counts in descending order\n",
    "product_line_class_counts = product_line_class_counts.sort_values(by=product_line_class_counts.columns.tolist(), ascending=False)\n",
    "\n",
    "# Plotting the bar chart\n",
    "plt.figure(figsize=(10, 6))\n",
    "product_line_class_counts.plot(kind='bar', stacked=True)\n",
    "plt.xlabel('Product Line')\n",
    "plt.ylabel('Count')\n",
    "plt.title('Product Line and Class Distribution')\n",
    "plt.legend(title='Product Class')\n",
    "\n",
    "plt.show()\n"
   ]
  },
  {
   "cell_type": "code",
   "execution_count": null,
   "metadata": {},
   "outputs": [],
   "source": [
    "# Checking Top 10 Product ID\n",
    "top_10_product_id = df['product_id'].value_counts().nlargest(10)\n",
    "\n",
    "# Plotting the top 10 Product ID counts using Seaborn\n",
    "plt.figure(figsize=(8, 6))\n",
    "plt.pie(top_10_product_id.values, labels=top_10_product_id.index, autopct='%1.1f%%', startangle=90)\n",
    "plt.title('Top 10 Product (id) Sale')\n",
    "\n",
    "plt.show()\n"
   ]
  },
  {
   "cell_type": "code",
   "execution_count": null,
   "metadata": {},
   "outputs": [],
   "source": [
    "# Checking States\n",
    "df['state'].value_counts()"
   ]
  },
  {
   "cell_type": "code",
   "execution_count": null,
   "metadata": {},
   "outputs": [],
   "source": [
    "# Replace the categorical values\n",
    "df['state'].replace('New South Wales', 'NSW', inplace=True)\n",
    "df['state'].replace('Victoria', 'VIC', inplace=True)\n",
    "\n",
    "state = df['state'].value_counts()\n",
    "\n",
    "# Plotting the gender counts with color\n",
    "plt.bar(state.index, state.values, color=['pink', 'lightgreen', 'lavender'])\n",
    "plt.xlabel('state')\n",
    "plt.ylabel('Count')\n",
    "plt.title('State Distribution')\n",
    "\n",
    "plt.show()\n"
   ]
  },
  {
   "cell_type": "code",
   "execution_count": null,
   "metadata": {},
   "outputs": [],
   "source": [
    "# Visualize the age groups\n",
    "\n",
    "# Binning the age values\n",
    "bin_edges = range(0, 100, 10)  # Define the bin edges (0, 10, 20, ..., 100)\n",
    "plt.hist(df['age'], bins=bin_edges, edgecolor='black')\n",
    "\n",
    "# Set labels and title\n",
    "plt.xlabel('Age')\n",
    "plt.ylabel('Count')\n",
    "plt.title('Customer Age Distribution')\n",
    "\n",
    "plt.show()"
   ]
  },
  {
   "attachments": {},
   "cell_type": "markdown",
   "metadata": {},
   "source": [
    "Most of the customer age group are 40-50"
   ]
  },
  {
   "cell_type": "code",
   "execution_count": null,
   "metadata": {},
   "outputs": [],
   "source": [
    "# Visualize the Property valuation\n",
    "\n",
    "# Binning the age values\n",
    "bin_edges = range(0, 15, 1) \n",
    "plt.hist(df['property_valuation'], bins=bin_edges, edgecolor='black')\n",
    "\n",
    "# Set labels and title\n",
    "plt.xlabel('property_valuation')\n",
    "plt.ylabel('Count')\n",
    "plt.title('Property valuation distribution')"
   ]
  },
  {
   "attachments": {},
   "cell_type": "markdown",
   "metadata": {},
   "source": [
    "Respective customers having a property valuation range from 7.5 to 10.5 are mostly using the product"
   ]
  },
  {
   "cell_type": "code",
   "execution_count": null,
   "metadata": {},
   "outputs": [],
   "source": [
    "# looking for distribution\n",
    "nums = ['past_3_years_bike_related_purchases', 'tenure', 'age', 'property_valuation']\n",
    "plt.figure(figsize=(15, 3))\n",
    "for i in range(0, len(nums)):\n",
    "    plt.subplot(1, 5, i+1)\n",
    "    sns.distplot(df[nums[i]])\n",
    "    plt.tight_layout()"
   ]
  },
  {
   "cell_type": "code",
   "execution_count": null,
   "metadata": {},
   "outputs": [],
   "source": [
    "# Transaction analysis: \n",
    "\n",
    "# making backup dataset\n",
    "df_transact = df.copy()\n",
    "\n",
    "# deeper analysis of datetime data by breaking it down into more specific parts\n",
    "df_transact['transaction_year'] = df['transaction_date'].dt.strftime('%Y')\n",
    "df_transact['transaction_month'] = df['transaction_date'].dt.strftime('%B')\n",
    "df_transact['transaction_quarter'] = df['transaction_date'].dt.quarter.astype(str)\n",
    "df_transact['transaction_day'] = df['transaction_date'].dt.strftime('%d')\n",
    "df_transact['transaction_weekday'] = df['transaction_date'].dt.strftime('%A')\n",
    "df_transact.drop(['transaction_date'],axis=1,inplace=True)\n",
    "\n",
    "# aggregate by month\n",
    "transaction_per_month = df_transact.groupby(['transaction_month'])[['customer_id']].count()\n",
    "transaction_per_month.reset_index(inplace=True)\n",
    "transaction_per_month.columns = ['month', 'number_of_transaction']\n",
    "\n",
    "# order by month\n",
    "month_order = ['January', 'February', 'March', 'April', 'May', 'June', 'July', 'August', 'September', 'October', 'November', 'December']\n",
    "transaction_per_month['month'] = pd.Categorical(transaction_per_month['month'], month_order)\n",
    "transaction_per_month.sort_values('month', inplace=True)\n",
    "transaction_per_month\n"
   ]
  },
  {
   "cell_type": "code",
   "execution_count": null,
   "metadata": {},
   "outputs": [],
   "source": [
    "# visualization transanctions overtime.\n",
    "fig = plt.figure(figsize=(20, 5))\n",
    "\n",
    "fig.suptitle('No\\'s of Transction per month', fontsize=20, fontweight='bold')\n",
    "plt.xlabel('Month', fontsize=14)\n",
    "plt.ylabel('Number of Transaction', fontsize=14)\n",
    "\n",
    "x = transaction_per_month['month']\n",
    "y = transaction_per_month['number_of_transaction']\n",
    "mean = y.mean()\n",
    "\n",
    "plt.plot(x, y, color = 'steelblue')\n",
    "plt.grid(color='darkgray', linestyle=':', linewidth=0.5)\n",
    "plt.axhline(y=mean, color='red', linestyle=':')\n",
    "plt.text(0.25, 0.5, 'Mean : No\\'s of Transction', transform=fig.transFigure, color='red')\n",
    "plt.show()"
   ]
  },
  {
   "cell_type": "code",
   "execution_count": null,
   "metadata": {},
   "outputs": [],
   "source": [
    "# Checking product details\n",
    "\n",
    "stat = df[['brand', 'product_line', 'product_class', 'product_size']].describe().T\n",
    "stat['% top'] = stat['freq']/stat['count']*100\n",
    "stat"
   ]
  },
  {
   "attachments": {},
   "cell_type": "markdown",
   "metadata": {},
   "source": [
    "Customers predominantly purchased Solex, accounting for 21.43% of all purchases.\n",
    "\n",
    "The majority of customers, comprising 71.59%, opted for Standard bikes.\n",
    "\n",
    "A significant proportion of customers, accounting for 69.84%, purchased medium class bikes.\n",
    "\n",
    "Approximately 65.68% of customers opted for medium size bikes."
   ]
  },
  {
   "cell_type": "code",
   "execution_count": null,
   "metadata": {},
   "outputs": [],
   "source": [
    "# Brand Analysis\n",
    "brand = df['brand'].value_counts().reset_index()\n",
    "brand.columns = ['brand', 'count']\n",
    "brand['percentage'] = (brand['count']/brand['count'].sum()*100).round(2)\n",
    "brand"
   ]
  },
  {
   "cell_type": "code",
   "execution_count": null,
   "metadata": {},
   "outputs": [],
   "source": [
    "# visualizing brand \n",
    "\n",
    "fig, ax = plt.subplots(figsize=(10, 5))\n",
    "\n",
    "# Sorting the data by percentage in ascending order\n",
    "brand_sort = brand.sort_values(by=['percentage'])\n",
    "\n",
    "# Plotting the pie chart\n",
    "wedges, texts, autotexts = ax.pie(brand_sort['percentage'], labels=brand_sort['brand'], autopct='%1.1f%%', startangle=90)\n",
    "ax.axis('equal')  # Equal aspect ratio ensures that pie is drawn as a circle\n",
    "ax.set_title('Percentage of Brand', fontsize=16, fontweight='bold')\n",
    "\n",
    "# Adding percentage labels to the pie chart\n",
    "for autotext in autotexts:\n",
    "    autotext.set_color('white')  # Set label color to white\n",
    "\n",
    "plt.show()\n"
   ]
  },
  {
   "cell_type": "code",
   "execution_count": null,
   "metadata": {},
   "outputs": [],
   "source": [
    "# Export the excel for dashboard visualization\n",
    "\n",
    "df.to_excel('Dashboard data.xlsx', index=False)"
   ]
  },
  {
   "attachments": {},
   "cell_type": "markdown",
   "metadata": {},
   "source": [
    "### Conclusion:\n",
    "\n",
    "Based on the above analysis, the following key findings and recommendations can be made:\n",
    "\n",
    "1. Industry Preferences: The major user segments are observed in the Manufacturing, Financial Services, and Health industries, followed by Retail, Property, and IT domains. To optimize business growth, it is recommended to prioritize these industries in marketing and sales strategies.\n",
    "\n",
    "2. Targeted Professions: The prime users of the product include individuals working as Social Workers, Business Analysts, Assistant Professors, Legal Assistants, and Executive Secretaries. To capitalize on this trend, it is recommended to focus marketing efforts towards these professional segments.\n",
    "\n",
    "3. Popular Product Line: The Standard product line exhibits the highest sales with a count of 14,151. This indicates its popularity among customers. To leverage this demand, it is advised to ensure sufficient availability and promotion of Standard products.\n",
    "\n",
    "4. Best-selling Products: The most sold products are identified as Product IDs O, 3, and 1. It is recommended to monitor and maintain adequate stock levels of these products to meet customer demand.\n",
    "\n",
    "5. Geographic Focus: The majority of customers are located in the state of NSW. To maximize market penetration and customer engagement, targeted marketing campaigns and promotional activities should be concentrated in this region.\n",
    "\n",
    "6. Target Age Group: The analysis reveals that customers in the age group of 40-50 are the primary users of the product. Tailored marketing strategies and product offerings should cater to the preferences and needs of this age group to attract and retain customers.\n",
    "\n",
    "7. Property Valuation: Customers with property valuations ranging between 7-10.5 demonstrate a higher propensity for purchasing the product. This segment should be targeted with customized offers and incentives to drive sales.\n",
    "\n",
    "8. Brand Performance: The brand with the highest transaction percentage is Solex at 21.48%, followed by Giant Bicycles (16.73%) and WeareA2B (16.63%). To capitalize on the popularity of these brands, marketing efforts should emphasize their unique selling propositions and strengthen brand loyalty.\n",
    "\n",
    "In conclusion, by considering these recommendations and aligning marketing strategies accordingly, the overall business growth and customer acquisition can be optimized in a more professional and targeted manner."
   ]
  }
 ],
 "metadata": {
  "kernelspec": {
   "display_name": "MachineLearning",
   "language": "python",
   "name": "python3"
  },
  "language_info": {
   "codemirror_mode": {
    "name": "ipython",
    "version": 3
   },
   "file_extension": ".py",
   "mimetype": "text/x-python",
   "name": "python",
   "nbconvert_exporter": "python",
   "pygments_lexer": "ipython3",
   "version": "3.9.16"
  },
  "orig_nbformat": 4
 },
 "nbformat": 4,
 "nbformat_minor": 2
}
